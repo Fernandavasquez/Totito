{
 "cells": [
  {
   "cell_type": "code",
   "execution_count": null,
   "id": "20672d1a",
   "metadata": {},
   "outputs": [],
   "source": [
    "import random"
   ]
  },
  {
   "cell_type": "code",
   "execution_count": null,
   "id": "cd60a1de",
   "metadata": {},
   "outputs": [],
   "source": [
    "tablero = [' ' for _ in range(9)]\n",
    "def imprimirtablero():\n",
    "    fila1 = '|'.join(tablero[0:3])\n",
    "    fila2 = '|'.join(tablero[3:6])\n",
    "    fila3 = '|'.join(tablero[6:9])\n",
    "    print(fila1)\n",
    "    print('-----')\n",
    "    print(fila2)\n",
    "    print('-----')\n",
    "    print(fila3)\n",
    "    \n",
    "def ganador(jugador):\n",
    "    for i in range(0, 9, 3):\n",
    "        if tablero[i:i+3] == [jugador]*3:\n",
    "            return True\n",
    "    for i in range(3):\n",
    "        if tablero[i::3] == [jugador]*3:\n",
    "            return True\n",
    "    if tablero[0] == jugador and tablero[4] == jugador and tablero[8] == jugador:\n",
    "        return True\n",
    "    if tablero[2] == jugador and tablero[4] == jugador and tablero[6] == jugador:\n",
    "        return True\n",
    "    return False\n",
    "\n",
    "def movimiento(jugador):\n",
    "    if jugador == 'O':\n",
    "        mov = random.randint(0, 8)\n",
    "    else:\n",
    "        mov = int(input(\"Ingrese la cantidad 1-9:\")) - 1\n",
    "    if tablero[mov] == ' ':\n",
    "        tablero[mov] = jugador\n",
    "    else:\n",
    "        print(\"casilla ocupada\")\n",
    "        movimiento(jugador)\n",
    "        \n",
    "while True:\n",
    "    imprimirtablero()\n",
    "    movimiento('X')\n",
    "    if ganador('X'):\n",
    "        imprimirtablero()\n",
    "        print(\"El jugador X, ha ganado\")\n",
    "        break\n",
    "    imprimirtablero()\n",
    "    movimiento('O')\n",
    "    if ganador('O'):\n",
    "        imprimirtablero()\n",
    "        print(\"El jugador O, ha ganado\")\n",
    "        break"
   ]
  }
 ],
 "metadata": {
  "kernelspec": {
   "display_name": "Python 3 (ipykernel)",
   "language": "python",
   "name": "python3"
  },
  "language_info": {
   "codemirror_mode": {
    "name": "ipython",
    "version": 3
   },
   "file_extension": ".py",
   "mimetype": "text/x-python",
   "name": "python",
   "nbconvert_exporter": "python",
   "pygments_lexer": "ipython3",
   "version": "3.9.12"
  }
 },
 "nbformat": 4,
 "nbformat_minor": 5
}
